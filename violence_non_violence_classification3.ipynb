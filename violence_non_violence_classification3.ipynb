{
  "nbformat": 4,
  "nbformat_minor": 0,
  "metadata": {
    "colab": {
      "name": "violence_non_violence_classification3",
      "provenance": []
    },
    "kernelspec": {
      "name": "python3",
      "display_name": "Python 3"
    },
    "accelerator": "GPU"
  },
  "cells": [
    {
      "cell_type": "code",
      "metadata": {
        "colab": {
          "base_uri": "https://localhost:8080/"
        },
        "id": "dyRFq6QpLcSd",
        "outputId": "287811a1-907b-4db5-f898-80f8e125f6cc"
      },
      "source": [
        "from google.colab import drive\n",
        "drive.mount('/content/drive')"
      ],
      "execution_count": null,
      "outputs": [
        {
          "output_type": "stream",
          "text": [
            "Mounted at /content/drive\n"
          ],
          "name": "stdout"
        }
      ]
    },
    {
      "cell_type": "code",
      "metadata": {
        "id": "eMoMAiMQLlRU"
      },
      "source": [
        "import os\n",
        "ORIGIN_INPUT_DATASET = 'Food-11'\n",
        "BASE_PATH = '/content/drive/MyDrive/violence_dataset'\n",
        "\n",
        "TRAIN ='training'\n",
        "TEST = 'evaluation'\n",
        "VAL = 'validation'\n",
        "\n",
        "\n",
        "CLASSES = ['non_violence', 'violence']\n",
        "\n",
        "BATCH_SIZE = 32\n",
        "\n",
        "LE_PATH = os.path.sep.join(['output', 'le.pickle'])\n",
        "\n",
        "BASE_CSV_PATH='output'\n",
        "\n",
        "MODEL_PATH = os.path.sep.join(['/content/drive/MyDrive/violence_dataset', 'food.model'])\n",
        "\n",
        "UNFROZEN_PLOT_PATH = os.path.sep.join(['output','unfrozen.png'])\n",
        "\n",
        "WARMUP_PLOT_PATH = os.path.sep.join(['output', 'warmup.png'])"
      ],
      "execution_count": null,
      "outputs": []
    },
    {
      "cell_type": "code",
      "metadata": {
        "id": "dsWoapkPMKB8"
      },
      "source": [
        "import matplotlib\n",
        "matplotlib.use(\"Agg\")\n",
        "# import the necessary packages\n",
        "from tensorflow.keras.preprocessing.image import ImageDataGenerator\n",
        "from tensorflow.keras.applications import VGG16\n",
        "from tensorflow.keras.layers import Dropout\n",
        "from tensorflow.keras.layers import Flatten\n",
        "from tensorflow.keras.layers import Dense\n",
        "from tensorflow.keras.layers import Input\n",
        "from tensorflow.keras.models import Model\n",
        "from tensorflow.keras.optimizers import SGD\n",
        "from sklearn.metrics import classification_report\n",
        "from imutils import paths\n",
        "import matplotlib.pyplot as plt\n",
        "import numpy as np\n",
        "import os"
      ],
      "execution_count": null,
      "outputs": []
    },
    {
      "cell_type": "code",
      "metadata": {
        "id": "BgM8OQXZMPyq"
      },
      "source": [
        "def plot_training(H, N, plotPath):\n",
        "\t# construct a plot that plots and saves the training history\n",
        "\tplt.style.use(\"ggplot\")\n",
        "\tplt.figure()\n",
        "\tplt.plot(np.arange(0, N), H.history[\"loss\"], label=\"train_loss\")\n",
        "\tplt.plot(np.arange(0, N), H.history[\"val_loss\"], label=\"val_loss\")\n",
        "\tplt.plot(np.arange(0, N), H.history[\"accuracy\"], label=\"train_acc\")\n",
        "\tplt.plot(np.arange(0, N), H.history[\"val_accuracy\"], label=\"val_acc\")\n",
        "\tplt.title(\"Training Loss and Accuracy\")\n",
        "\tplt.xlabel(\"Epoch #\")\n",
        "\tplt.ylabel(\"Loss/Accuracy\")\n",
        "\tplt.legend(loc=\"lower left\")\n",
        "\tplt.savefig(plotPath)"
      ],
      "execution_count": null,
      "outputs": []
    },
    {
      "cell_type": "code",
      "metadata": {
        "id": "flLzP8GZMXRh"
      },
      "source": [
        "trainAug = ImageDataGenerator(\n",
        "\trotation_range=30,\n",
        "\tzoom_range=0.15,\n",
        "\twidth_shift_range=0.2,\n",
        "\theight_shift_range=0.2,\n",
        "\tshear_range=0.15,\n",
        "\thorizontal_flip=True,\n",
        "\tfill_mode=\"nearest\", validation_split=0.2)\n",
        "\n",
        "mean = np.array([123.68, 116.779, 103.939], dtype=\"float32\")\n",
        "trainAug.mean = mean"
      ],
      "execution_count": null,
      "outputs": []
    },
    {
      "cell_type": "code",
      "metadata": {
        "colab": {
          "base_uri": "https://localhost:8080/"
        },
        "id": "6DO1in2jMlUo",
        "outputId": "75bcd600-1329-4b73-85d8-1eedd7973bc9"
      },
      "source": [
        "trainGen = trainAug.flow_from_directory(\n",
        "\t'/content/drive/MyDrive/violence_dataset',\n",
        "\tclass_mode=\"categorical\",\n",
        "\ttarget_size=(224, 224),\n",
        "\tcolor_mode=\"rgb\",\n",
        "\tshuffle=True,\n",
        "\tbatch_size=BATCH_SIZE, subset='training')\n",
        "\n",
        "valGen = trainAug.flow_from_directory(\n",
        "\t'/content/drive/MyDrive/violence_dataset',\n",
        "\tclass_mode=\"categorical\",\n",
        "\ttarget_size=(224, 224),\n",
        "\tcolor_mode=\"rgb\",\n",
        "\tshuffle=False,\n",
        "\tbatch_size=BATCH_SIZE, subset='validation')"
      ],
      "execution_count": null,
      "outputs": [
        {
          "output_type": "stream",
          "text": [
            "Found 8859 images belonging to 2 classes.\n",
            "Found 2214 images belonging to 2 classes.\n"
          ],
          "name": "stdout"
        }
      ]
    },
    {
      "cell_type": "code",
      "metadata": {
        "colab": {
          "base_uri": "https://localhost:8080/"
        },
        "id": "WAYaF50jT8qi",
        "outputId": "5ffb9c1e-7ae5-4ba0-d039-a04149c72e98"
      },
      "source": [
        "valGen.labels"
      ],
      "execution_count": null,
      "outputs": [
        {
          "output_type": "execute_result",
          "data": {
            "text/plain": [
              "array([0, 0, 0, ..., 1, 1, 1], dtype=int32)"
            ]
          },
          "metadata": {
            "tags": []
          },
          "execution_count": 7
        }
      ]
    },
    {
      "cell_type": "code",
      "metadata": {
        "colab": {
          "base_uri": "https://localhost:8080/"
        },
        "id": "fWU_AS52NN4q",
        "outputId": "774c48de-ef81-4e27-aa38-006ba5f74425"
      },
      "source": [
        "import tensorflow as tf\n",
        "with tf.device('/gpu:0'):\n",
        "  baseModel = VGG16(weights=\"imagenet\", include_top=False,\n",
        "                    input_tensor=Input(shape=(224, 224, 3)))\n",
        "  # construct the head of the model that will be placed on top of the\n",
        "  # the base model\n",
        "  headModel = baseModel.output\n",
        "  headModel = Flatten(name=\"flatten\")(headModel)\n",
        "  headModel = Dense(512, activation=\"relu\")(headModel)\n",
        "  headModel = Dropout(0.5)(headModel)\n",
        "  headModel = Dense(len(CLASSES), activation=\"softmax\")(headModel)\n",
        "  # place the head FC model on top of the base model (this will become\n",
        "  # the actual model we will train)\n",
        "  model = Model(inputs=baseModel.input, outputs=headModel)"
      ],
      "execution_count": null,
      "outputs": [
        {
          "output_type": "stream",
          "text": [
            "Downloading data from https://storage.googleapis.com/tensorflow/keras-applications/vgg16/vgg16_weights_tf_dim_ordering_tf_kernels_notop.h5\n",
            "58892288/58889256 [==============================] - 0s 0us/step\n"
          ],
          "name": "stdout"
        }
      ]
    },
    {
      "cell_type": "code",
      "metadata": {
        "id": "p_ucmHJJNgrV"
      },
      "source": [
        "for layer in baseModel.layers:\n",
        "\tlayer.trainable = False"
      ],
      "execution_count": null,
      "outputs": []
    },
    {
      "cell_type": "code",
      "metadata": {
        "colab": {
          "base_uri": "https://localhost:8080/"
        },
        "id": "J0FXwK34Np7d",
        "outputId": "a2924d9b-6ecc-485f-ac20-63b4c39c2080"
      },
      "source": [
        "print(\"[INFO] compiling model...\")\n",
        "opt = SGD(lr=1e-4, momentum=0.9)\n",
        "model.compile(loss=\"categorical_crossentropy\", optimizer=opt,\n",
        "\tmetrics=[\"accuracy\"])"
      ],
      "execution_count": null,
      "outputs": [
        {
          "output_type": "stream",
          "text": [
            "[INFO] compiling model...\n"
          ],
          "name": "stdout"
        }
      ]
    },
    {
      "cell_type": "code",
      "metadata": {
        "colab": {
          "base_uri": "https://localhost:8080/"
        },
        "id": "8LETukVoNu4a",
        "outputId": "110501d9-9b23-476b-b3ed-a0c509d0974f"
      },
      "source": [
        "print(\"[INFO] training head...\")\n",
        "H = model.fit(\n",
        "\tx=trainGen,\n",
        "\tsteps_per_epoch=8859 // BATCH_SIZE,\n",
        "\tvalidation_data=valGen,\n",
        "\tvalidation_steps=2214 // BATCH_SIZE,\n",
        "\tepochs=50)"
      ],
      "execution_count": null,
      "outputs": [
        {
          "output_type": "stream",
          "text": [
            "[INFO] training head...\n",
            "Epoch 1/50\n",
            "276/276 [==============================] - 2598s 9s/step - loss: 3.4468 - accuracy: 0.7092 - val_loss: 0.5779 - val_accuracy: 0.7957\n",
            "Epoch 2/50\n",
            "276/276 [==============================] - 174s 629ms/step - loss: 0.5524 - accuracy: 0.8048 - val_loss: 0.4189 - val_accuracy: 0.8229\n",
            "Epoch 3/50\n",
            "276/276 [==============================] - 173s 626ms/step - loss: 0.4086 - accuracy: 0.8321 - val_loss: 0.4181 - val_accuracy: 0.8197\n",
            "Epoch 4/50\n",
            "276/276 [==============================] - 173s 628ms/step - loss: 0.3781 - accuracy: 0.8435 - val_loss: 0.4337 - val_accuracy: 0.8193\n",
            "Epoch 5/50\n",
            "276/276 [==============================] - 173s 627ms/step - loss: 0.3455 - accuracy: 0.8537 - val_loss: 0.4033 - val_accuracy: 0.8356\n",
            "Epoch 6/50\n",
            "276/276 [==============================] - 173s 628ms/step - loss: 0.3223 - accuracy: 0.8644 - val_loss: 0.4011 - val_accuracy: 0.8351\n",
            "Epoch 7/50\n",
            "276/276 [==============================] - 173s 627ms/step - loss: 0.2848 - accuracy: 0.8766 - val_loss: 0.4197 - val_accuracy: 0.8252\n",
            "Epoch 8/50\n",
            "276/276 [==============================] - 173s 626ms/step - loss: 0.2853 - accuracy: 0.8807 - val_loss: 0.3855 - val_accuracy: 0.8370\n",
            "Epoch 9/50\n",
            "276/276 [==============================] - 173s 627ms/step - loss: 0.2772 - accuracy: 0.8878 - val_loss: 0.3662 - val_accuracy: 0.8428\n",
            "Epoch 10/50\n",
            "276/276 [==============================] - 173s 625ms/step - loss: 0.2722 - accuracy: 0.8854 - val_loss: 0.3574 - val_accuracy: 0.8551\n",
            "Epoch 11/50\n",
            "276/276 [==============================] - 173s 625ms/step - loss: 0.2672 - accuracy: 0.8891 - val_loss: 0.3502 - val_accuracy: 0.8524\n",
            "Epoch 12/50\n",
            "276/276 [==============================] - 172s 622ms/step - loss: 0.2519 - accuracy: 0.8931 - val_loss: 0.3643 - val_accuracy: 0.8483\n",
            "Epoch 13/50\n",
            "276/276 [==============================] - 172s 623ms/step - loss: 0.2489 - accuracy: 0.8956 - val_loss: 0.3689 - val_accuracy: 0.8524\n",
            "Epoch 14/50\n",
            "276/276 [==============================] - 172s 625ms/step - loss: 0.2388 - accuracy: 0.9047 - val_loss: 0.3860 - val_accuracy: 0.8392\n",
            "Epoch 15/50\n",
            "276/276 [==============================] - 172s 624ms/step - loss: 0.2405 - accuracy: 0.8981 - val_loss: 0.3582 - val_accuracy: 0.8546\n",
            "Epoch 16/50\n",
            "276/276 [==============================] - 172s 623ms/step - loss: 0.2354 - accuracy: 0.8982 - val_loss: 0.3621 - val_accuracy: 0.8474\n",
            "Epoch 17/50\n",
            "276/276 [==============================] - 172s 623ms/step - loss: 0.2090 - accuracy: 0.9128 - val_loss: 0.3472 - val_accuracy: 0.8605\n",
            "Epoch 18/50\n",
            "276/276 [==============================] - 172s 623ms/step - loss: 0.2291 - accuracy: 0.9010 - val_loss: 0.3808 - val_accuracy: 0.8546\n",
            "Epoch 19/50\n",
            "276/276 [==============================] - 172s 623ms/step - loss: 0.2156 - accuracy: 0.9118 - val_loss: 0.3443 - val_accuracy: 0.8605\n",
            "Epoch 20/50\n",
            "276/276 [==============================] - 172s 623ms/step - loss: 0.2140 - accuracy: 0.9126 - val_loss: 0.3338 - val_accuracy: 0.8696\n",
            "Epoch 21/50\n",
            "276/276 [==============================] - 173s 625ms/step - loss: 0.2031 - accuracy: 0.9147 - val_loss: 0.3607 - val_accuracy: 0.8578\n",
            "Epoch 22/50\n",
            "276/276 [==============================] - 172s 622ms/step - loss: 0.2081 - accuracy: 0.9142 - val_loss: 0.3374 - val_accuracy: 0.8623\n",
            "Epoch 23/50\n",
            "276/276 [==============================] - 171s 621ms/step - loss: 0.2058 - accuracy: 0.9210 - val_loss: 0.3789 - val_accuracy: 0.8442\n",
            "Epoch 24/50\n",
            "276/276 [==============================] - 172s 624ms/step - loss: 0.2114 - accuracy: 0.9142 - val_loss: 0.3365 - val_accuracy: 0.8569\n",
            "Epoch 25/50\n",
            "276/276 [==============================] - 172s 622ms/step - loss: 0.1907 - accuracy: 0.9191 - val_loss: 0.3669 - val_accuracy: 0.8560\n",
            "Epoch 26/50\n",
            "276/276 [==============================] - 172s 625ms/step - loss: 0.1995 - accuracy: 0.9202 - val_loss: 0.3243 - val_accuracy: 0.8723\n",
            "Epoch 27/50\n",
            "276/276 [==============================] - 172s 623ms/step - loss: 0.1948 - accuracy: 0.9200 - val_loss: 0.3446 - val_accuracy: 0.8641\n",
            "Epoch 28/50\n",
            "276/276 [==============================] - 173s 626ms/step - loss: 0.1858 - accuracy: 0.9236 - val_loss: 0.3433 - val_accuracy: 0.8641\n",
            "Epoch 29/50\n",
            "276/276 [==============================] - 172s 624ms/step - loss: 0.1986 - accuracy: 0.9153 - val_loss: 0.3511 - val_accuracy: 0.8596\n",
            "Epoch 30/50\n",
            "276/276 [==============================] - 172s 624ms/step - loss: 0.1818 - accuracy: 0.9268 - val_loss: 0.3189 - val_accuracy: 0.8696\n",
            "Epoch 31/50\n",
            "276/276 [==============================] - 173s 626ms/step - loss: 0.1921 - accuracy: 0.9211 - val_loss: 0.3453 - val_accuracy: 0.8646\n",
            "Epoch 32/50\n",
            "276/276 [==============================] - 172s 623ms/step - loss: 0.1822 - accuracy: 0.9232 - val_loss: 0.3338 - val_accuracy: 0.8637\n",
            "Epoch 33/50\n",
            "276/276 [==============================] - 172s 625ms/step - loss: 0.1819 - accuracy: 0.9222 - val_loss: 0.3407 - val_accuracy: 0.8605\n",
            "Epoch 34/50\n",
            "276/276 [==============================] - 171s 621ms/step - loss: 0.1709 - accuracy: 0.9328 - val_loss: 0.3206 - val_accuracy: 0.8732\n",
            "Epoch 35/50\n",
            "276/276 [==============================] - 172s 625ms/step - loss: 0.1806 - accuracy: 0.9293 - val_loss: 0.3703 - val_accuracy: 0.8560\n",
            "Epoch 36/50\n",
            "276/276 [==============================] - 172s 622ms/step - loss: 0.1777 - accuracy: 0.9270 - val_loss: 0.3307 - val_accuracy: 0.8619\n",
            "Epoch 37/50\n",
            "276/276 [==============================] - 172s 623ms/step - loss: 0.1736 - accuracy: 0.9229 - val_loss: 0.3363 - val_accuracy: 0.8655\n",
            "Epoch 38/50\n",
            "276/276 [==============================] - 172s 623ms/step - loss: 0.1700 - accuracy: 0.9310 - val_loss: 0.3322 - val_accuracy: 0.8664\n",
            "Epoch 39/50\n",
            "276/276 [==============================] - 173s 626ms/step - loss: 0.1486 - accuracy: 0.9401 - val_loss: 0.3282 - val_accuracy: 0.8659\n",
            "Epoch 40/50\n",
            "276/276 [==============================] - 172s 624ms/step - loss: 0.1654 - accuracy: 0.9323 - val_loss: 0.3217 - val_accuracy: 0.8727\n",
            "Epoch 41/50\n",
            "276/276 [==============================] - 172s 624ms/step - loss: 0.1548 - accuracy: 0.9364 - val_loss: 0.3093 - val_accuracy: 0.8782\n",
            "Epoch 42/50\n",
            "276/276 [==============================] - 172s 622ms/step - loss: 0.1525 - accuracy: 0.9357 - val_loss: 0.3592 - val_accuracy: 0.8673\n",
            "Epoch 43/50\n",
            "276/276 [==============================] - 172s 623ms/step - loss: 0.1555 - accuracy: 0.9370 - val_loss: 0.3418 - val_accuracy: 0.8687\n",
            "Epoch 44/50\n",
            "276/276 [==============================] - 172s 624ms/step - loss: 0.1698 - accuracy: 0.9314 - val_loss: 0.3349 - val_accuracy: 0.8587\n",
            "Epoch 45/50\n",
            "276/276 [==============================] - 172s 624ms/step - loss: 0.1572 - accuracy: 0.9356 - val_loss: 0.3490 - val_accuracy: 0.8605\n",
            "Epoch 46/50\n",
            "276/276 [==============================] - 172s 624ms/step - loss: 0.1557 - accuracy: 0.9357 - val_loss: 0.3626 - val_accuracy: 0.8596\n",
            "Epoch 47/50\n",
            "276/276 [==============================] - 172s 624ms/step - loss: 0.1505 - accuracy: 0.9330 - val_loss: 0.3491 - val_accuracy: 0.8691\n",
            "Epoch 48/50\n",
            "276/276 [==============================] - 173s 627ms/step - loss: 0.1538 - accuracy: 0.9378 - val_loss: 0.3622 - val_accuracy: 0.8614\n",
            "Epoch 49/50\n",
            "276/276 [==============================] - 173s 627ms/step - loss: 0.1452 - accuracy: 0.9440 - val_loss: 0.3502 - val_accuracy: 0.8700\n",
            "Epoch 50/50\n",
            "276/276 [==============================] - 172s 624ms/step - loss: 0.1488 - accuracy: 0.9381 - val_loss: 0.3308 - val_accuracy: 0.8723\n"
          ],
          "name": "stdout"
        }
      ]
    },
    {
      "cell_type": "code",
      "metadata": {
        "id": "g4XiMpVRJ29n"
      },
      "source": [
        "model.save(MODEL_PATH, save_format=\"h5\")"
      ],
      "execution_count": null,
      "outputs": []
    },
    {
      "cell_type": "code",
      "metadata": {
        "colab": {
          "base_uri": "https://localhost:8080/",
          "height": 510
        },
        "id": "rTZhh7XINxmZ",
        "outputId": "43c5c90f-43fe-42ed-e5c2-25073ff2ac2b"
      },
      "source": [
        "print(\"[INFO] evaluating after fine-tuning network head...\")\n",
        "valGen.reset()\n",
        "predIdxs = model.predict(x=valGen,\n",
        "\tsteps=(2214 // BATCH_SIZE) + 1)\n",
        "predIdxs = np.argmax(predIdxs, axis=1)\n",
        "print(classification_report(valGen.classes, predIdxs,\n",
        "\ttarget_names=valGen.class_indices.keys()))\n",
        "plot_training(H, 50, WARMUP_PLOT_PATH)"
      ],
      "execution_count": null,
      "outputs": [
        {
          "output_type": "stream",
          "text": [
            "[INFO] evaluating after fine-tuning network head...\n",
            "              precision    recall  f1-score   support\n",
            "\n",
            "non_violence       0.93      0.79      0.85      1046\n",
            "    violence       0.83      0.95      0.89      1168\n",
            "\n",
            "    accuracy                           0.87      2214\n",
            "   macro avg       0.88      0.87      0.87      2214\n",
            "weighted avg       0.88      0.87      0.87      2214\n",
            "\n"
          ],
          "name": "stdout"
        },
        {
          "output_type": "error",
          "ename": "FileNotFoundError",
          "evalue": "ignored",
          "traceback": [
            "\u001b[0;31m---------------------------------------------------------------------------\u001b[0m",
            "\u001b[0;31mFileNotFoundError\u001b[0m                         Traceback (most recent call last)",
            "\u001b[0;32m<ipython-input-15-1b6fd852716b>\u001b[0m in \u001b[0;36m<module>\u001b[0;34m()\u001b[0m\n\u001b[1;32m      6\u001b[0m print(classification_report(valGen.classes, predIdxs,\n\u001b[1;32m      7\u001b[0m \ttarget_names=valGen.class_indices.keys()))\n\u001b[0;32m----> 8\u001b[0;31m \u001b[0mplot_training\u001b[0m\u001b[0;34m(\u001b[0m\u001b[0mH\u001b[0m\u001b[0;34m,\u001b[0m \u001b[0;36m50\u001b[0m\u001b[0;34m,\u001b[0m \u001b[0mWARMUP_PLOT_PATH\u001b[0m\u001b[0;34m)\u001b[0m\u001b[0;34m\u001b[0m\u001b[0;34m\u001b[0m\u001b[0m\n\u001b[0m",
            "\u001b[0;32m<ipython-input-4-cba9e68c8529>\u001b[0m in \u001b[0;36mplot_training\u001b[0;34m(H, N, plotPath)\u001b[0m\n\u001b[1;32m     11\u001b[0m         \u001b[0mplt\u001b[0m\u001b[0;34m.\u001b[0m\u001b[0mylabel\u001b[0m\u001b[0;34m(\u001b[0m\u001b[0;34m\"Loss/Accuracy\"\u001b[0m\u001b[0;34m)\u001b[0m\u001b[0;34m\u001b[0m\u001b[0;34m\u001b[0m\u001b[0m\n\u001b[1;32m     12\u001b[0m         \u001b[0mplt\u001b[0m\u001b[0;34m.\u001b[0m\u001b[0mlegend\u001b[0m\u001b[0;34m(\u001b[0m\u001b[0mloc\u001b[0m\u001b[0;34m=\u001b[0m\u001b[0;34m\"lower left\"\u001b[0m\u001b[0;34m)\u001b[0m\u001b[0;34m\u001b[0m\u001b[0;34m\u001b[0m\u001b[0m\n\u001b[0;32m---> 13\u001b[0;31m         \u001b[0mplt\u001b[0m\u001b[0;34m.\u001b[0m\u001b[0msavefig\u001b[0m\u001b[0;34m(\u001b[0m\u001b[0mplotPath\u001b[0m\u001b[0;34m)\u001b[0m\u001b[0;34m\u001b[0m\u001b[0;34m\u001b[0m\u001b[0m\n\u001b[0m",
            "\u001b[0;32m/usr/local/lib/python3.6/dist-packages/matplotlib/pyplot.py\u001b[0m in \u001b[0;36msavefig\u001b[0;34m(*args, **kwargs)\u001b[0m\n\u001b[1;32m    721\u001b[0m \u001b[0;32mdef\u001b[0m \u001b[0msavefig\u001b[0m\u001b[0;34m(\u001b[0m\u001b[0;34m*\u001b[0m\u001b[0margs\u001b[0m\u001b[0;34m,\u001b[0m \u001b[0;34m**\u001b[0m\u001b[0mkwargs\u001b[0m\u001b[0;34m)\u001b[0m\u001b[0;34m:\u001b[0m\u001b[0;34m\u001b[0m\u001b[0;34m\u001b[0m\u001b[0m\n\u001b[1;32m    722\u001b[0m     \u001b[0mfig\u001b[0m \u001b[0;34m=\u001b[0m \u001b[0mgcf\u001b[0m\u001b[0;34m(\u001b[0m\u001b[0;34m)\u001b[0m\u001b[0;34m\u001b[0m\u001b[0;34m\u001b[0m\u001b[0m\n\u001b[0;32m--> 723\u001b[0;31m     \u001b[0mres\u001b[0m \u001b[0;34m=\u001b[0m \u001b[0mfig\u001b[0m\u001b[0;34m.\u001b[0m\u001b[0msavefig\u001b[0m\u001b[0;34m(\u001b[0m\u001b[0;34m*\u001b[0m\u001b[0margs\u001b[0m\u001b[0;34m,\u001b[0m \u001b[0;34m**\u001b[0m\u001b[0mkwargs\u001b[0m\u001b[0;34m)\u001b[0m\u001b[0;34m\u001b[0m\u001b[0;34m\u001b[0m\u001b[0m\n\u001b[0m\u001b[1;32m    724\u001b[0m     \u001b[0mfig\u001b[0m\u001b[0;34m.\u001b[0m\u001b[0mcanvas\u001b[0m\u001b[0;34m.\u001b[0m\u001b[0mdraw_idle\u001b[0m\u001b[0;34m(\u001b[0m\u001b[0;34m)\u001b[0m   \u001b[0;31m# need this if 'transparent=True' to reset colors\u001b[0m\u001b[0;34m\u001b[0m\u001b[0;34m\u001b[0m\u001b[0m\n\u001b[1;32m    725\u001b[0m     \u001b[0;32mreturn\u001b[0m \u001b[0mres\u001b[0m\u001b[0;34m\u001b[0m\u001b[0;34m\u001b[0m\u001b[0m\n",
            "\u001b[0;32m/usr/local/lib/python3.6/dist-packages/matplotlib/figure.py\u001b[0m in \u001b[0;36msavefig\u001b[0;34m(self, fname, transparent, **kwargs)\u001b[0m\n\u001b[1;32m   2201\u001b[0m             \u001b[0mself\u001b[0m\u001b[0;34m.\u001b[0m\u001b[0mpatch\u001b[0m\u001b[0;34m.\u001b[0m\u001b[0mset_visible\u001b[0m\u001b[0;34m(\u001b[0m\u001b[0mframeon\u001b[0m\u001b[0;34m)\u001b[0m\u001b[0;34m\u001b[0m\u001b[0;34m\u001b[0m\u001b[0m\n\u001b[1;32m   2202\u001b[0m \u001b[0;34m\u001b[0m\u001b[0m\n\u001b[0;32m-> 2203\u001b[0;31m         \u001b[0mself\u001b[0m\u001b[0;34m.\u001b[0m\u001b[0mcanvas\u001b[0m\u001b[0;34m.\u001b[0m\u001b[0mprint_figure\u001b[0m\u001b[0;34m(\u001b[0m\u001b[0mfname\u001b[0m\u001b[0;34m,\u001b[0m \u001b[0;34m**\u001b[0m\u001b[0mkwargs\u001b[0m\u001b[0;34m)\u001b[0m\u001b[0;34m\u001b[0m\u001b[0;34m\u001b[0m\u001b[0m\n\u001b[0m\u001b[1;32m   2204\u001b[0m \u001b[0;34m\u001b[0m\u001b[0m\n\u001b[1;32m   2205\u001b[0m         \u001b[0;32mif\u001b[0m \u001b[0mframeon\u001b[0m\u001b[0;34m:\u001b[0m\u001b[0;34m\u001b[0m\u001b[0;34m\u001b[0m\u001b[0m\n",
            "\u001b[0;32m/usr/local/lib/python3.6/dist-packages/matplotlib/backend_bases.py\u001b[0m in \u001b[0;36mprint_figure\u001b[0;34m(self, filename, dpi, facecolor, edgecolor, orientation, format, bbox_inches, **kwargs)\u001b[0m\n\u001b[1;32m   2124\u001b[0m                     \u001b[0morientation\u001b[0m\u001b[0;34m=\u001b[0m\u001b[0morientation\u001b[0m\u001b[0;34m,\u001b[0m\u001b[0;34m\u001b[0m\u001b[0;34m\u001b[0m\u001b[0m\n\u001b[1;32m   2125\u001b[0m                     \u001b[0mbbox_inches_restore\u001b[0m\u001b[0;34m=\u001b[0m\u001b[0m_bbox_inches_restore\u001b[0m\u001b[0;34m,\u001b[0m\u001b[0;34m\u001b[0m\u001b[0;34m\u001b[0m\u001b[0m\n\u001b[0;32m-> 2126\u001b[0;31m                     **kwargs)\n\u001b[0m\u001b[1;32m   2127\u001b[0m             \u001b[0;32mfinally\u001b[0m\u001b[0;34m:\u001b[0m\u001b[0;34m\u001b[0m\u001b[0;34m\u001b[0m\u001b[0m\n\u001b[1;32m   2128\u001b[0m                 \u001b[0;32mif\u001b[0m \u001b[0mbbox_inches\u001b[0m \u001b[0;32mand\u001b[0m \u001b[0mrestore_bbox\u001b[0m\u001b[0;34m:\u001b[0m\u001b[0;34m\u001b[0m\u001b[0;34m\u001b[0m\u001b[0m\n",
            "\u001b[0;32m/usr/local/lib/python3.6/dist-packages/matplotlib/backends/backend_agg.py\u001b[0m in \u001b[0;36mprint_png\u001b[0;34m(self, filename_or_obj, metadata, pil_kwargs, *args, **kwargs)\u001b[0m\n\u001b[1;32m    533\u001b[0m         \u001b[0;32melse\u001b[0m\u001b[0;34m:\u001b[0m\u001b[0;34m\u001b[0m\u001b[0;34m\u001b[0m\u001b[0m\n\u001b[1;32m    534\u001b[0m             \u001b[0mrenderer\u001b[0m \u001b[0;34m=\u001b[0m \u001b[0mself\u001b[0m\u001b[0;34m.\u001b[0m\u001b[0mget_renderer\u001b[0m\u001b[0;34m(\u001b[0m\u001b[0;34m)\u001b[0m\u001b[0;34m\u001b[0m\u001b[0;34m\u001b[0m\u001b[0m\n\u001b[0;32m--> 535\u001b[0;31m             \u001b[0;32mwith\u001b[0m \u001b[0mcbook\u001b[0m\u001b[0;34m.\u001b[0m\u001b[0mopen_file_cm\u001b[0m\u001b[0;34m(\u001b[0m\u001b[0mfilename_or_obj\u001b[0m\u001b[0;34m,\u001b[0m \u001b[0;34m\"wb\"\u001b[0m\u001b[0;34m)\u001b[0m \u001b[0;32mas\u001b[0m \u001b[0mfh\u001b[0m\u001b[0;34m:\u001b[0m\u001b[0;34m\u001b[0m\u001b[0;34m\u001b[0m\u001b[0m\n\u001b[0m\u001b[1;32m    536\u001b[0m                 _png.write_png(renderer._renderer, fh, self.figure.dpi,\n\u001b[1;32m    537\u001b[0m                                metadata={**default_metadata, **metadata})\n",
            "\u001b[0;32m/usr/lib/python3.6/contextlib.py\u001b[0m in \u001b[0;36m__enter__\u001b[0;34m(self)\u001b[0m\n\u001b[1;32m     79\u001b[0m     \u001b[0;32mdef\u001b[0m \u001b[0m__enter__\u001b[0m\u001b[0;34m(\u001b[0m\u001b[0mself\u001b[0m\u001b[0;34m)\u001b[0m\u001b[0;34m:\u001b[0m\u001b[0;34m\u001b[0m\u001b[0;34m\u001b[0m\u001b[0m\n\u001b[1;32m     80\u001b[0m         \u001b[0;32mtry\u001b[0m\u001b[0;34m:\u001b[0m\u001b[0;34m\u001b[0m\u001b[0;34m\u001b[0m\u001b[0m\n\u001b[0;32m---> 81\u001b[0;31m             \u001b[0;32mreturn\u001b[0m \u001b[0mnext\u001b[0m\u001b[0;34m(\u001b[0m\u001b[0mself\u001b[0m\u001b[0;34m.\u001b[0m\u001b[0mgen\u001b[0m\u001b[0;34m)\u001b[0m\u001b[0;34m\u001b[0m\u001b[0;34m\u001b[0m\u001b[0m\n\u001b[0m\u001b[1;32m     82\u001b[0m         \u001b[0;32mexcept\u001b[0m \u001b[0mStopIteration\u001b[0m\u001b[0;34m:\u001b[0m\u001b[0;34m\u001b[0m\u001b[0;34m\u001b[0m\u001b[0m\n\u001b[1;32m     83\u001b[0m             \u001b[0;32mraise\u001b[0m \u001b[0mRuntimeError\u001b[0m\u001b[0;34m(\u001b[0m\u001b[0;34m\"generator didn't yield\"\u001b[0m\u001b[0;34m)\u001b[0m \u001b[0;32mfrom\u001b[0m \u001b[0;32mNone\u001b[0m\u001b[0;34m\u001b[0m\u001b[0;34m\u001b[0m\u001b[0m\n",
            "\u001b[0;32m/usr/local/lib/python3.6/dist-packages/matplotlib/cbook/__init__.py\u001b[0m in \u001b[0;36mopen_file_cm\u001b[0;34m(path_or_file, mode, encoding)\u001b[0m\n\u001b[1;32m    416\u001b[0m \u001b[0;32mdef\u001b[0m \u001b[0mopen_file_cm\u001b[0m\u001b[0;34m(\u001b[0m\u001b[0mpath_or_file\u001b[0m\u001b[0;34m,\u001b[0m \u001b[0mmode\u001b[0m\u001b[0;34m=\u001b[0m\u001b[0;34m\"r\"\u001b[0m\u001b[0;34m,\u001b[0m \u001b[0mencoding\u001b[0m\u001b[0;34m=\u001b[0m\u001b[0;32mNone\u001b[0m\u001b[0;34m)\u001b[0m\u001b[0;34m:\u001b[0m\u001b[0;34m\u001b[0m\u001b[0;34m\u001b[0m\u001b[0m\n\u001b[1;32m    417\u001b[0m     \u001b[0;34mr\"\"\"Pass through file objects and context-manage `.PathLike`\\s.\"\"\"\u001b[0m\u001b[0;34m\u001b[0m\u001b[0;34m\u001b[0m\u001b[0m\n\u001b[0;32m--> 418\u001b[0;31m     \u001b[0mfh\u001b[0m\u001b[0;34m,\u001b[0m \u001b[0mopened\u001b[0m \u001b[0;34m=\u001b[0m \u001b[0mto_filehandle\u001b[0m\u001b[0;34m(\u001b[0m\u001b[0mpath_or_file\u001b[0m\u001b[0;34m,\u001b[0m \u001b[0mmode\u001b[0m\u001b[0;34m,\u001b[0m \u001b[0;32mTrue\u001b[0m\u001b[0;34m,\u001b[0m \u001b[0mencoding\u001b[0m\u001b[0;34m)\u001b[0m\u001b[0;34m\u001b[0m\u001b[0;34m\u001b[0m\u001b[0m\n\u001b[0m\u001b[1;32m    419\u001b[0m     \u001b[0;32mif\u001b[0m \u001b[0mopened\u001b[0m\u001b[0;34m:\u001b[0m\u001b[0;34m\u001b[0m\u001b[0;34m\u001b[0m\u001b[0m\n\u001b[1;32m    420\u001b[0m         \u001b[0;32mwith\u001b[0m \u001b[0mfh\u001b[0m\u001b[0;34m:\u001b[0m\u001b[0;34m\u001b[0m\u001b[0;34m\u001b[0m\u001b[0m\n",
            "\u001b[0;32m/usr/local/lib/python3.6/dist-packages/matplotlib/cbook/__init__.py\u001b[0m in \u001b[0;36mto_filehandle\u001b[0;34m(fname, flag, return_opened, encoding)\u001b[0m\n\u001b[1;32m    401\u001b[0m             \u001b[0mfh\u001b[0m \u001b[0;34m=\u001b[0m \u001b[0mbz2\u001b[0m\u001b[0;34m.\u001b[0m\u001b[0mBZ2File\u001b[0m\u001b[0;34m(\u001b[0m\u001b[0mfname\u001b[0m\u001b[0;34m,\u001b[0m \u001b[0mflag\u001b[0m\u001b[0;34m)\u001b[0m\u001b[0;34m\u001b[0m\u001b[0;34m\u001b[0m\u001b[0m\n\u001b[1;32m    402\u001b[0m         \u001b[0;32melse\u001b[0m\u001b[0;34m:\u001b[0m\u001b[0;34m\u001b[0m\u001b[0;34m\u001b[0m\u001b[0m\n\u001b[0;32m--> 403\u001b[0;31m             \u001b[0mfh\u001b[0m \u001b[0;34m=\u001b[0m \u001b[0mopen\u001b[0m\u001b[0;34m(\u001b[0m\u001b[0mfname\u001b[0m\u001b[0;34m,\u001b[0m \u001b[0mflag\u001b[0m\u001b[0;34m,\u001b[0m \u001b[0mencoding\u001b[0m\u001b[0;34m=\u001b[0m\u001b[0mencoding\u001b[0m\u001b[0;34m)\u001b[0m\u001b[0;34m\u001b[0m\u001b[0;34m\u001b[0m\u001b[0m\n\u001b[0m\u001b[1;32m    404\u001b[0m         \u001b[0mopened\u001b[0m \u001b[0;34m=\u001b[0m \u001b[0;32mTrue\u001b[0m\u001b[0;34m\u001b[0m\u001b[0;34m\u001b[0m\u001b[0m\n\u001b[1;32m    405\u001b[0m     \u001b[0;32melif\u001b[0m \u001b[0mhasattr\u001b[0m\u001b[0;34m(\u001b[0m\u001b[0mfname\u001b[0m\u001b[0;34m,\u001b[0m \u001b[0;34m'seek'\u001b[0m\u001b[0;34m)\u001b[0m\u001b[0;34m:\u001b[0m\u001b[0;34m\u001b[0m\u001b[0;34m\u001b[0m\u001b[0m\n",
            "\u001b[0;31mFileNotFoundError\u001b[0m: [Errno 2] No such file or directory: 'output/warmup.png'"
          ]
        }
      ]
    },
    {
      "cell_type": "code",
      "metadata": {
        "colab": {
          "base_uri": "https://localhost:8080/"
        },
        "id": "QMe6KINLVLLI",
        "outputId": "8df6ffda-2565-43ee-e719-823481feb363"
      },
      "source": [
        "trainGen.reset()\n",
        "valGen.reset()\n",
        "\n",
        "for layer in baseModel.layers[15:]:\n",
        "\tlayer.trainable = True\n",
        "\n",
        "\n",
        "for layer in baseModel.layers:\n",
        "\tprint(\"{}: {}\".format(layer, layer.trainable))"
      ],
      "execution_count": null,
      "outputs": [
        {
          "output_type": "stream",
          "text": [
            "<tensorflow.python.keras.engine.input_layer.InputLayer object at 0x7fce6cf0b780>: False\n",
            "<tensorflow.python.keras.layers.convolutional.Conv2D object at 0x7fce6b5704a8>: False\n",
            "<tensorflow.python.keras.layers.convolutional.Conv2D object at 0x7fce6b570fd0>: False\n",
            "<tensorflow.python.keras.layers.pooling.MaxPooling2D object at 0x7fce6b532748>: False\n",
            "<tensorflow.python.keras.layers.convolutional.Conv2D object at 0x7fce6b5dd7f0>: False\n",
            "<tensorflow.python.keras.layers.convolutional.Conv2D object at 0x7fce6b5dd240>: False\n",
            "<tensorflow.python.keras.layers.pooling.MaxPooling2D object at 0x7fce6b5d4dd8>: False\n",
            "<tensorflow.python.keras.layers.convolutional.Conv2D object at 0x7fce6b5b4a90>: False\n",
            "<tensorflow.python.keras.layers.convolutional.Conv2D object at 0x7fce6b5aca20>: False\n",
            "<tensorflow.python.keras.layers.convolutional.Conv2D object at 0x7fce6b5ac080>: False\n",
            "<tensorflow.python.keras.layers.pooling.MaxPooling2D object at 0x7fce6b5b0208>: False\n",
            "<tensorflow.python.keras.layers.convolutional.Conv2D object at 0x7fce6b5d7828>: False\n",
            "<tensorflow.python.keras.layers.convolutional.Conv2D object at 0x7fce6b5d72b0>: False\n",
            "<tensorflow.python.keras.layers.convolutional.Conv2D object at 0x7fce6b5c5f60>: False\n",
            "<tensorflow.python.keras.layers.pooling.MaxPooling2D object at 0x7fce6b5b6fd0>: False\n",
            "<tensorflow.python.keras.layers.convolutional.Conv2D object at 0x7fce6b5df160>: True\n",
            "<tensorflow.python.keras.layers.convolutional.Conv2D object at 0x7fce6b5ba710>: True\n",
            "<tensorflow.python.keras.layers.convolutional.Conv2D object at 0x7fce6b5d4eb8>: True\n",
            "<tensorflow.python.keras.layers.pooling.MaxPooling2D object at 0x7fce6c4a4da0>: True\n"
          ],
          "name": "stdout"
        }
      ]
    },
    {
      "cell_type": "code",
      "metadata": {
        "colab": {
          "base_uri": "https://localhost:8080/"
        },
        "id": "LMLd2dZlVL39",
        "outputId": "856e2a62-250f-4f04-cb09-347498019de6"
      },
      "source": [
        "print(\"[INFO] re-compiling model...\")\n",
        "opt = SGD(lr=1e-4, momentum=0.9)\n",
        "model.compile(loss=\"categorical_crossentropy\", optimizer=opt,\n",
        "\tmetrics=[\"accuracy\"])\n",
        "\n",
        "print(\"[INFO] re-training model...\")\n",
        "H = model.fit(\n",
        "\tx=trainGen,\n",
        "\tsteps_per_epoch=8859 // BATCH_SIZE,\n",
        "\tvalidation_data=valGen,\n",
        "\tvalidation_steps=2214 // BATCH_SIZE,\n",
        "\tepochs=20)"
      ],
      "execution_count": null,
      "outputs": [
        {
          "output_type": "stream",
          "text": [
            "[INFO] re-compiling model...\n",
            "[INFO] re-training model...\n",
            "Epoch 1/20\n",
            "276/276 [==============================] - 176s 637ms/step - loss: 0.1520 - accuracy: 0.9402 - val_loss: 0.3096 - val_accuracy: 0.8782\n",
            "Epoch 2/20\n",
            "276/276 [==============================] - 175s 636ms/step - loss: 0.1383 - accuracy: 0.9451 - val_loss: 0.3836 - val_accuracy: 0.8605\n",
            "Epoch 3/20\n",
            "276/276 [==============================] - 175s 636ms/step - loss: 0.1380 - accuracy: 0.9465 - val_loss: 0.3750 - val_accuracy: 0.8709\n",
            "Epoch 4/20\n",
            "276/276 [==============================] - 175s 636ms/step - loss: 0.1197 - accuracy: 0.9517 - val_loss: 0.2963 - val_accuracy: 0.8841\n",
            "Epoch 5/20\n",
            "276/276 [==============================] - 175s 635ms/step - loss: 0.1083 - accuracy: 0.9555 - val_loss: 0.3122 - val_accuracy: 0.8881\n",
            "Epoch 6/20\n",
            "276/276 [==============================] - 175s 634ms/step - loss: 0.1090 - accuracy: 0.9574 - val_loss: 0.2963 - val_accuracy: 0.8909\n",
            "Epoch 7/20\n",
            "276/276 [==============================] - 175s 634ms/step - loss: 0.1024 - accuracy: 0.9597 - val_loss: 0.2978 - val_accuracy: 0.8940\n",
            "Epoch 8/20\n",
            "276/276 [==============================] - 175s 633ms/step - loss: 0.0908 - accuracy: 0.9636 - val_loss: 0.2674 - val_accuracy: 0.9031\n",
            "Epoch 9/20\n",
            "276/276 [==============================] - 175s 633ms/step - loss: 0.0854 - accuracy: 0.9650 - val_loss: 0.3951 - val_accuracy: 0.8700\n",
            "Epoch 10/20\n",
            "276/276 [==============================] - 175s 634ms/step - loss: 0.0838 - accuracy: 0.9659 - val_loss: 0.3168 - val_accuracy: 0.8995\n",
            "Epoch 11/20\n",
            "276/276 [==============================] - 175s 634ms/step - loss: 0.0888 - accuracy: 0.9668 - val_loss: 0.3584 - val_accuracy: 0.8863\n",
            "Epoch 12/20\n",
            "276/276 [==============================] - 175s 635ms/step - loss: 0.0725 - accuracy: 0.9713 - val_loss: 0.3296 - val_accuracy: 0.8909\n",
            "Epoch 13/20\n",
            "276/276 [==============================] - 177s 641ms/step - loss: 0.0799 - accuracy: 0.9678 - val_loss: 0.3035 - val_accuracy: 0.9108\n",
            "Epoch 14/20\n",
            "276/276 [==============================] - 176s 636ms/step - loss: 0.0719 - accuracy: 0.9710 - val_loss: 0.3269 - val_accuracy: 0.8940\n",
            "Epoch 15/20\n",
            "276/276 [==============================] - 174s 632ms/step - loss: 0.0634 - accuracy: 0.9755 - val_loss: 0.2992 - val_accuracy: 0.9053\n",
            "Epoch 16/20\n",
            "276/276 [==============================] - 175s 634ms/step - loss: 0.0643 - accuracy: 0.9726 - val_loss: 0.3010 - val_accuracy: 0.9085\n",
            "Epoch 17/20\n",
            "276/276 [==============================] - 175s 632ms/step - loss: 0.0618 - accuracy: 0.9745 - val_loss: 0.3397 - val_accuracy: 0.9017\n",
            "Epoch 18/20\n",
            "276/276 [==============================] - 175s 635ms/step - loss: 0.0636 - accuracy: 0.9745 - val_loss: 0.3192 - val_accuracy: 0.9008\n",
            "Epoch 19/20\n",
            "276/276 [==============================] - 176s 636ms/step - loss: 0.0530 - accuracy: 0.9799 - val_loss: 0.3219 - val_accuracy: 0.8990\n",
            "Epoch 20/20\n",
            "276/276 [==============================] - 175s 634ms/step - loss: 0.0660 - accuracy: 0.9741 - val_loss: 0.3168 - val_accuracy: 0.8995\n"
          ],
          "name": "stdout"
        }
      ]
    },
    {
      "cell_type": "code",
      "metadata": {
        "colab": {
          "base_uri": "https://localhost:8080/",
          "height": 544
        },
        "id": "z-SkCwARVO4f",
        "outputId": "0b79539b-64a6-4660-f824-a8f64c9de32b"
      },
      "source": [
        "print(\"[INFO] evaluating after fine-tuning network...\")\n",
        "valGen.reset()\n",
        "predIdxs = model.predict(x=valGen,\n",
        "\tsteps=(2214 // BATCH_SIZE) + 1)\n",
        "predIdxs = np.argmax(predIdxs, axis=1)\n",
        "print(classification_report(valGen.classes, predIdxs,\n",
        "\ttarget_names=valGen.class_indices.keys()))\n",
        "plot_training(H, 20, UNFROZEN_PLOT_PATH)\n",
        "# serialize the model to disk\n",
        "print(\"[INFO] serializing network...\")\n",
        "model.save(MODEL_PATH, save_format=\"h5\")"
      ],
      "execution_count": null,
      "outputs": [
        {
          "output_type": "stream",
          "text": [
            "[INFO] evaluating after fine-tuning network...\n",
            "              precision    recall  f1-score   support\n",
            "\n",
            "non_violence       0.95      0.83      0.88      1046\n",
            "    violence       0.86      0.96      0.91      1168\n",
            "\n",
            "    accuracy                           0.90      2214\n",
            "   macro avg       0.91      0.89      0.90      2214\n",
            "weighted avg       0.90      0.90      0.90      2214\n",
            "\n"
          ],
          "name": "stdout"
        },
        {
          "output_type": "error",
          "ename": "FileNotFoundError",
          "evalue": "ignored",
          "traceback": [
            "\u001b[0;31m---------------------------------------------------------------------------\u001b[0m",
            "\u001b[0;31mFileNotFoundError\u001b[0m                         Traceback (most recent call last)",
            "\u001b[0;32m<ipython-input-19-2dfe5e9449eb>\u001b[0m in \u001b[0;36m<module>\u001b[0;34m()\u001b[0m\n\u001b[1;32m      6\u001b[0m print(classification_report(valGen.classes, predIdxs,\n\u001b[1;32m      7\u001b[0m \ttarget_names=valGen.class_indices.keys()))\n\u001b[0;32m----> 8\u001b[0;31m \u001b[0mplot_training\u001b[0m\u001b[0;34m(\u001b[0m\u001b[0mH\u001b[0m\u001b[0;34m,\u001b[0m \u001b[0;36m20\u001b[0m\u001b[0;34m,\u001b[0m \u001b[0mUNFROZEN_PLOT_PATH\u001b[0m\u001b[0;34m)\u001b[0m\u001b[0;34m\u001b[0m\u001b[0;34m\u001b[0m\u001b[0m\n\u001b[0m\u001b[1;32m      9\u001b[0m \u001b[0;31m# serialize the model to disk\u001b[0m\u001b[0;34m\u001b[0m\u001b[0;34m\u001b[0m\u001b[0;34m\u001b[0m\u001b[0m\n\u001b[1;32m     10\u001b[0m \u001b[0mprint\u001b[0m\u001b[0;34m(\u001b[0m\u001b[0;34m\"[INFO] serializing network...\"\u001b[0m\u001b[0;34m)\u001b[0m\u001b[0;34m\u001b[0m\u001b[0;34m\u001b[0m\u001b[0m\n",
            "\u001b[0;32m<ipython-input-4-cba9e68c8529>\u001b[0m in \u001b[0;36mplot_training\u001b[0;34m(H, N, plotPath)\u001b[0m\n\u001b[1;32m     11\u001b[0m         \u001b[0mplt\u001b[0m\u001b[0;34m.\u001b[0m\u001b[0mylabel\u001b[0m\u001b[0;34m(\u001b[0m\u001b[0;34m\"Loss/Accuracy\"\u001b[0m\u001b[0;34m)\u001b[0m\u001b[0;34m\u001b[0m\u001b[0;34m\u001b[0m\u001b[0m\n\u001b[1;32m     12\u001b[0m         \u001b[0mplt\u001b[0m\u001b[0;34m.\u001b[0m\u001b[0mlegend\u001b[0m\u001b[0;34m(\u001b[0m\u001b[0mloc\u001b[0m\u001b[0;34m=\u001b[0m\u001b[0;34m\"lower left\"\u001b[0m\u001b[0;34m)\u001b[0m\u001b[0;34m\u001b[0m\u001b[0;34m\u001b[0m\u001b[0m\n\u001b[0;32m---> 13\u001b[0;31m         \u001b[0mplt\u001b[0m\u001b[0;34m.\u001b[0m\u001b[0msavefig\u001b[0m\u001b[0;34m(\u001b[0m\u001b[0mplotPath\u001b[0m\u001b[0;34m)\u001b[0m\u001b[0;34m\u001b[0m\u001b[0;34m\u001b[0m\u001b[0m\n\u001b[0m",
            "\u001b[0;32m/usr/local/lib/python3.6/dist-packages/matplotlib/pyplot.py\u001b[0m in \u001b[0;36msavefig\u001b[0;34m(*args, **kwargs)\u001b[0m\n\u001b[1;32m    721\u001b[0m \u001b[0;32mdef\u001b[0m \u001b[0msavefig\u001b[0m\u001b[0;34m(\u001b[0m\u001b[0;34m*\u001b[0m\u001b[0margs\u001b[0m\u001b[0;34m,\u001b[0m \u001b[0;34m**\u001b[0m\u001b[0mkwargs\u001b[0m\u001b[0;34m)\u001b[0m\u001b[0;34m:\u001b[0m\u001b[0;34m\u001b[0m\u001b[0;34m\u001b[0m\u001b[0m\n\u001b[1;32m    722\u001b[0m     \u001b[0mfig\u001b[0m \u001b[0;34m=\u001b[0m \u001b[0mgcf\u001b[0m\u001b[0;34m(\u001b[0m\u001b[0;34m)\u001b[0m\u001b[0;34m\u001b[0m\u001b[0;34m\u001b[0m\u001b[0m\n\u001b[0;32m--> 723\u001b[0;31m     \u001b[0mres\u001b[0m \u001b[0;34m=\u001b[0m \u001b[0mfig\u001b[0m\u001b[0;34m.\u001b[0m\u001b[0msavefig\u001b[0m\u001b[0;34m(\u001b[0m\u001b[0;34m*\u001b[0m\u001b[0margs\u001b[0m\u001b[0;34m,\u001b[0m \u001b[0;34m**\u001b[0m\u001b[0mkwargs\u001b[0m\u001b[0;34m)\u001b[0m\u001b[0;34m\u001b[0m\u001b[0;34m\u001b[0m\u001b[0m\n\u001b[0m\u001b[1;32m    724\u001b[0m     \u001b[0mfig\u001b[0m\u001b[0;34m.\u001b[0m\u001b[0mcanvas\u001b[0m\u001b[0;34m.\u001b[0m\u001b[0mdraw_idle\u001b[0m\u001b[0;34m(\u001b[0m\u001b[0;34m)\u001b[0m   \u001b[0;31m# need this if 'transparent=True' to reset colors\u001b[0m\u001b[0;34m\u001b[0m\u001b[0;34m\u001b[0m\u001b[0m\n\u001b[1;32m    725\u001b[0m     \u001b[0;32mreturn\u001b[0m \u001b[0mres\u001b[0m\u001b[0;34m\u001b[0m\u001b[0;34m\u001b[0m\u001b[0m\n",
            "\u001b[0;32m/usr/local/lib/python3.6/dist-packages/matplotlib/figure.py\u001b[0m in \u001b[0;36msavefig\u001b[0;34m(self, fname, transparent, **kwargs)\u001b[0m\n\u001b[1;32m   2201\u001b[0m             \u001b[0mself\u001b[0m\u001b[0;34m.\u001b[0m\u001b[0mpatch\u001b[0m\u001b[0;34m.\u001b[0m\u001b[0mset_visible\u001b[0m\u001b[0;34m(\u001b[0m\u001b[0mframeon\u001b[0m\u001b[0;34m)\u001b[0m\u001b[0;34m\u001b[0m\u001b[0;34m\u001b[0m\u001b[0m\n\u001b[1;32m   2202\u001b[0m \u001b[0;34m\u001b[0m\u001b[0m\n\u001b[0;32m-> 2203\u001b[0;31m         \u001b[0mself\u001b[0m\u001b[0;34m.\u001b[0m\u001b[0mcanvas\u001b[0m\u001b[0;34m.\u001b[0m\u001b[0mprint_figure\u001b[0m\u001b[0;34m(\u001b[0m\u001b[0mfname\u001b[0m\u001b[0;34m,\u001b[0m \u001b[0;34m**\u001b[0m\u001b[0mkwargs\u001b[0m\u001b[0;34m)\u001b[0m\u001b[0;34m\u001b[0m\u001b[0;34m\u001b[0m\u001b[0m\n\u001b[0m\u001b[1;32m   2204\u001b[0m \u001b[0;34m\u001b[0m\u001b[0m\n\u001b[1;32m   2205\u001b[0m         \u001b[0;32mif\u001b[0m \u001b[0mframeon\u001b[0m\u001b[0;34m:\u001b[0m\u001b[0;34m\u001b[0m\u001b[0;34m\u001b[0m\u001b[0m\n",
            "\u001b[0;32m/usr/local/lib/python3.6/dist-packages/matplotlib/backend_bases.py\u001b[0m in \u001b[0;36mprint_figure\u001b[0;34m(self, filename, dpi, facecolor, edgecolor, orientation, format, bbox_inches, **kwargs)\u001b[0m\n\u001b[1;32m   2124\u001b[0m                     \u001b[0morientation\u001b[0m\u001b[0;34m=\u001b[0m\u001b[0morientation\u001b[0m\u001b[0;34m,\u001b[0m\u001b[0;34m\u001b[0m\u001b[0;34m\u001b[0m\u001b[0m\n\u001b[1;32m   2125\u001b[0m                     \u001b[0mbbox_inches_restore\u001b[0m\u001b[0;34m=\u001b[0m\u001b[0m_bbox_inches_restore\u001b[0m\u001b[0;34m,\u001b[0m\u001b[0;34m\u001b[0m\u001b[0;34m\u001b[0m\u001b[0m\n\u001b[0;32m-> 2126\u001b[0;31m                     **kwargs)\n\u001b[0m\u001b[1;32m   2127\u001b[0m             \u001b[0;32mfinally\u001b[0m\u001b[0;34m:\u001b[0m\u001b[0;34m\u001b[0m\u001b[0;34m\u001b[0m\u001b[0m\n\u001b[1;32m   2128\u001b[0m                 \u001b[0;32mif\u001b[0m \u001b[0mbbox_inches\u001b[0m \u001b[0;32mand\u001b[0m \u001b[0mrestore_bbox\u001b[0m\u001b[0;34m:\u001b[0m\u001b[0;34m\u001b[0m\u001b[0;34m\u001b[0m\u001b[0m\n",
            "\u001b[0;32m/usr/local/lib/python3.6/dist-packages/matplotlib/backends/backend_agg.py\u001b[0m in \u001b[0;36mprint_png\u001b[0;34m(self, filename_or_obj, metadata, pil_kwargs, *args, **kwargs)\u001b[0m\n\u001b[1;32m    533\u001b[0m         \u001b[0;32melse\u001b[0m\u001b[0;34m:\u001b[0m\u001b[0;34m\u001b[0m\u001b[0;34m\u001b[0m\u001b[0m\n\u001b[1;32m    534\u001b[0m             \u001b[0mrenderer\u001b[0m \u001b[0;34m=\u001b[0m \u001b[0mself\u001b[0m\u001b[0;34m.\u001b[0m\u001b[0mget_renderer\u001b[0m\u001b[0;34m(\u001b[0m\u001b[0;34m)\u001b[0m\u001b[0;34m\u001b[0m\u001b[0;34m\u001b[0m\u001b[0m\n\u001b[0;32m--> 535\u001b[0;31m             \u001b[0;32mwith\u001b[0m \u001b[0mcbook\u001b[0m\u001b[0;34m.\u001b[0m\u001b[0mopen_file_cm\u001b[0m\u001b[0;34m(\u001b[0m\u001b[0mfilename_or_obj\u001b[0m\u001b[0;34m,\u001b[0m \u001b[0;34m\"wb\"\u001b[0m\u001b[0;34m)\u001b[0m \u001b[0;32mas\u001b[0m \u001b[0mfh\u001b[0m\u001b[0;34m:\u001b[0m\u001b[0;34m\u001b[0m\u001b[0;34m\u001b[0m\u001b[0m\n\u001b[0m\u001b[1;32m    536\u001b[0m                 _png.write_png(renderer._renderer, fh, self.figure.dpi,\n\u001b[1;32m    537\u001b[0m                                metadata={**default_metadata, **metadata})\n",
            "\u001b[0;32m/usr/lib/python3.6/contextlib.py\u001b[0m in \u001b[0;36m__enter__\u001b[0;34m(self)\u001b[0m\n\u001b[1;32m     79\u001b[0m     \u001b[0;32mdef\u001b[0m \u001b[0m__enter__\u001b[0m\u001b[0;34m(\u001b[0m\u001b[0mself\u001b[0m\u001b[0;34m)\u001b[0m\u001b[0;34m:\u001b[0m\u001b[0;34m\u001b[0m\u001b[0;34m\u001b[0m\u001b[0m\n\u001b[1;32m     80\u001b[0m         \u001b[0;32mtry\u001b[0m\u001b[0;34m:\u001b[0m\u001b[0;34m\u001b[0m\u001b[0;34m\u001b[0m\u001b[0m\n\u001b[0;32m---> 81\u001b[0;31m             \u001b[0;32mreturn\u001b[0m \u001b[0mnext\u001b[0m\u001b[0;34m(\u001b[0m\u001b[0mself\u001b[0m\u001b[0;34m.\u001b[0m\u001b[0mgen\u001b[0m\u001b[0;34m)\u001b[0m\u001b[0;34m\u001b[0m\u001b[0;34m\u001b[0m\u001b[0m\n\u001b[0m\u001b[1;32m     82\u001b[0m         \u001b[0;32mexcept\u001b[0m \u001b[0mStopIteration\u001b[0m\u001b[0;34m:\u001b[0m\u001b[0;34m\u001b[0m\u001b[0;34m\u001b[0m\u001b[0m\n\u001b[1;32m     83\u001b[0m             \u001b[0;32mraise\u001b[0m \u001b[0mRuntimeError\u001b[0m\u001b[0;34m(\u001b[0m\u001b[0;34m\"generator didn't yield\"\u001b[0m\u001b[0;34m)\u001b[0m \u001b[0;32mfrom\u001b[0m \u001b[0;32mNone\u001b[0m\u001b[0;34m\u001b[0m\u001b[0;34m\u001b[0m\u001b[0m\n",
            "\u001b[0;32m/usr/local/lib/python3.6/dist-packages/matplotlib/cbook/__init__.py\u001b[0m in \u001b[0;36mopen_file_cm\u001b[0;34m(path_or_file, mode, encoding)\u001b[0m\n\u001b[1;32m    416\u001b[0m \u001b[0;32mdef\u001b[0m \u001b[0mopen_file_cm\u001b[0m\u001b[0;34m(\u001b[0m\u001b[0mpath_or_file\u001b[0m\u001b[0;34m,\u001b[0m \u001b[0mmode\u001b[0m\u001b[0;34m=\u001b[0m\u001b[0;34m\"r\"\u001b[0m\u001b[0;34m,\u001b[0m \u001b[0mencoding\u001b[0m\u001b[0;34m=\u001b[0m\u001b[0;32mNone\u001b[0m\u001b[0;34m)\u001b[0m\u001b[0;34m:\u001b[0m\u001b[0;34m\u001b[0m\u001b[0;34m\u001b[0m\u001b[0m\n\u001b[1;32m    417\u001b[0m     \u001b[0;34mr\"\"\"Pass through file objects and context-manage `.PathLike`\\s.\"\"\"\u001b[0m\u001b[0;34m\u001b[0m\u001b[0;34m\u001b[0m\u001b[0m\n\u001b[0;32m--> 418\u001b[0;31m     \u001b[0mfh\u001b[0m\u001b[0;34m,\u001b[0m \u001b[0mopened\u001b[0m \u001b[0;34m=\u001b[0m \u001b[0mto_filehandle\u001b[0m\u001b[0;34m(\u001b[0m\u001b[0mpath_or_file\u001b[0m\u001b[0;34m,\u001b[0m \u001b[0mmode\u001b[0m\u001b[0;34m,\u001b[0m \u001b[0;32mTrue\u001b[0m\u001b[0;34m,\u001b[0m \u001b[0mencoding\u001b[0m\u001b[0;34m)\u001b[0m\u001b[0;34m\u001b[0m\u001b[0;34m\u001b[0m\u001b[0m\n\u001b[0m\u001b[1;32m    419\u001b[0m     \u001b[0;32mif\u001b[0m \u001b[0mopened\u001b[0m\u001b[0;34m:\u001b[0m\u001b[0;34m\u001b[0m\u001b[0;34m\u001b[0m\u001b[0m\n\u001b[1;32m    420\u001b[0m         \u001b[0;32mwith\u001b[0m \u001b[0mfh\u001b[0m\u001b[0;34m:\u001b[0m\u001b[0;34m\u001b[0m\u001b[0;34m\u001b[0m\u001b[0m\n",
            "\u001b[0;32m/usr/local/lib/python3.6/dist-packages/matplotlib/cbook/__init__.py\u001b[0m in \u001b[0;36mto_filehandle\u001b[0;34m(fname, flag, return_opened, encoding)\u001b[0m\n\u001b[1;32m    401\u001b[0m             \u001b[0mfh\u001b[0m \u001b[0;34m=\u001b[0m \u001b[0mbz2\u001b[0m\u001b[0;34m.\u001b[0m\u001b[0mBZ2File\u001b[0m\u001b[0;34m(\u001b[0m\u001b[0mfname\u001b[0m\u001b[0;34m,\u001b[0m \u001b[0mflag\u001b[0m\u001b[0;34m)\u001b[0m\u001b[0;34m\u001b[0m\u001b[0;34m\u001b[0m\u001b[0m\n\u001b[1;32m    402\u001b[0m         \u001b[0;32melse\u001b[0m\u001b[0;34m:\u001b[0m\u001b[0;34m\u001b[0m\u001b[0;34m\u001b[0m\u001b[0m\n\u001b[0;32m--> 403\u001b[0;31m             \u001b[0mfh\u001b[0m \u001b[0;34m=\u001b[0m \u001b[0mopen\u001b[0m\u001b[0;34m(\u001b[0m\u001b[0mfname\u001b[0m\u001b[0;34m,\u001b[0m \u001b[0mflag\u001b[0m\u001b[0;34m,\u001b[0m \u001b[0mencoding\u001b[0m\u001b[0;34m=\u001b[0m\u001b[0mencoding\u001b[0m\u001b[0;34m)\u001b[0m\u001b[0;34m\u001b[0m\u001b[0;34m\u001b[0m\u001b[0m\n\u001b[0m\u001b[1;32m    404\u001b[0m         \u001b[0mopened\u001b[0m \u001b[0;34m=\u001b[0m \u001b[0;32mTrue\u001b[0m\u001b[0;34m\u001b[0m\u001b[0;34m\u001b[0m\u001b[0m\n\u001b[1;32m    405\u001b[0m     \u001b[0;32melif\u001b[0m \u001b[0mhasattr\u001b[0m\u001b[0;34m(\u001b[0m\u001b[0mfname\u001b[0m\u001b[0;34m,\u001b[0m \u001b[0;34m'seek'\u001b[0m\u001b[0;34m)\u001b[0m\u001b[0;34m:\u001b[0m\u001b[0;34m\u001b[0m\u001b[0;34m\u001b[0m\u001b[0m\n",
            "\u001b[0;31mFileNotFoundError\u001b[0m: [Errno 2] No such file or directory: 'output/unfrozen.png'"
          ]
        }
      ]
    },
    {
      "cell_type": "code",
      "metadata": {
        "id": "Wn92a9wHlpgy"
      },
      "source": [
        ""
      ],
      "execution_count": null,
      "outputs": []
    }
  ]
}